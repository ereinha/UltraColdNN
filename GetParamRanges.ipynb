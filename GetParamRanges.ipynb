{
 "cells": [
  {
   "cell_type": "code",
   "execution_count": null,
   "metadata": {},
   "outputs": [],
   "source": [
    "from sklearn.preprocessing import StandardScaler\n",
    "from sklearn.model_selection import train_test_split\n",
    "import pickle as pkl\n",
    "import glob\n",
    "import numpy as np\n",
    "import cv2\n",
    "from img_load import load_bimg\n",
    "from NPSmethods2 import *"
   ]
  },
  {
   "cell_type": "code",
   "execution_count": null,
   "metadata": {
    "scrolled": true
   },
   "outputs": [],
   "source": [
    "psat=277\n",
    "\n",
    "#Settings of imaging system\n",
    "imgSysData = { \n",
    "    \"CCDPixelSize\": 13,      # pixel size of the CCD, in micron \n",
    "    \"magnification\": 27,      # 799.943 / 29.9099, # magnification of the imaging system \n",
    "    \"wavelen\"     : 0.852,     # wavelength of the imaging beam, in micron \n",
    "    \"NA\"          : 0.37,      # numerical aperture of the objective \n",
    "    \"ODtoAtom\"    : 13\n",
    "}\n",
    "\n",
    "#Configurations for NPSMethods (here we only need do_Fit)\n",
    "choices = {\n",
    "    \"if_Save\"                     : True,\n",
    "    \"do_Fit\"                      : True,\n",
    "    \"plot_2dGas\"                  : False,\n",
    "    \"plot_NoisePowSpec\"           : True,\n",
    "    \"plot_NoisePowSpec_LineCut\"   : True,\n",
    "    \"plot_Pupil\"                  : False,\n",
    "    \"plot_PSF\"                    : False,\n",
    "    \"plot_PSF_LineCut\"            : False,\n",
    "    \"plot_PSF_abs2\"               : False,\n",
    "    \"plot_PSF_abs2_LineCut\"       : False,\n",
    "    \"plot_Sk\"                     : False,\n",
    "    \"normalize\"                   : False\n",
    "}\n",
    "\n",
    "#Directory containing image folders\n",
    "path = r'C:\\Users\\eric0\\Jupyter Notebooks\\Cold Physics\\raw_image'\n",
    "\n",
    "#Directory where ML data will output to\n",
    "resDir = r'C:\\Users\\eric0\\Jupyter Notebooks\\Cold Physics\\results'\n",
    "\n",
    "trapRegion = (slice(100, 200), slice(100, 200))\n",
    "    # the region where the atoms located, [(xmin, xmax), (ymin, ymax)] (pixel)\n",
    "\n",
    "noiseRegion = (slice(0, 300), slice(0, 300))\n",
    "    # the region chosen for noise analysis, [(xmin, xmax), (ymin, ymax)] (pixel)\n",
    "\n",
    "numOfImgsInEachRun = 50      # number of images for each run of analysis\n",
    "\n",
    "rampingParameter = 0\n",
    "\n",
    "#Lists where OD images and parameters will be stored\n",
    "rawimages = []\n",
    "parameters = []\n",
    "bkgMax = 0\n",
    "bkgMin = 100\n",
    "\n",
    "#Sort through folders in path directory for raw images, extract OD image and parameters, then append to lists\n",
    "for folder in glob.iglob(path + \"\\\\*\"):\n",
    "    result=load_bimg(folder + \"\\\\\", raw=True)\n",
    "    odimg=-np.log(result['raw1']/result['raw2'])-(result['raw1']-result['raw2'])/psat\n",
    "    _, _, _, _, popt, _, bkg = doCalibration(folder, resDir, trapRegion, noiseRegion, numOfImgsInEachRun, rampingParameter, imgSysData, choices)\n",
    "    print(popt)\n",
    "    print(bkg)\n",
    "    if bkg > bkgMax:\n",
    "        bkgMax = bkg\n",
    "    if bkg < bkgMin:\n",
    "        bkgMin = bkg\n",
    "    for i in range(len(odimg)):\n",
    "        rawimages.append(odimg[i])\n",
    "        parameters.append(popt)\n"
   ]
  },
  {
   "cell_type": "code",
   "execution_count": null,
   "metadata": {},
   "outputs": [],
   "source": [
    "#Sort through parameters and find the maximum and minimum for each separate parameter\n",
    "seedParasMax = np.empty_like(parameters[0])\n",
    "seedParasMin = np.empty_like(parameters[0])\n",
    "rotparam = np.array(parameters).T\n",
    "for i in range(len(parameters[0])):\n",
    "    seedParasMax[i] = np.max(rotparam[i])\n",
    "    seedParasMin[i] = np.min(rotparam[i])"
   ]
  },
  {
   "cell_type": "code",
   "execution_count": null,
   "metadata": {},
   "outputs": [],
   "source": [
    "#Check that values look reasonable\n",
    "print(seedParasMax)\n",
    "print(seedParasMin)"
   ]
  },
  {
   "cell_type": "code",
   "execution_count": null,
   "metadata": {},
   "outputs": [],
   "source": [
    "#Save as pickle files\n",
    "pkl.dump(seedParasMin, open(resDir + \"\\\\seedParasMin.pkl\", \"wb\"))\n",
    "pkl.dump(seedParasMax, open(resDir + \"\\\\seedParasMax.pkl\", \"wb\"))\n",
    "pkl.dump(bkgMax, open(resDir + \"\\\\bkgMax.pkl\", \"wb\"))\n",
    "pkl.dump(bkgMin, open(resDir + \"\\\\bkgMin.pkl\", \"wb\"))"
   ]
  },
  {
   "cell_type": "code",
   "execution_count": null,
   "metadata": {},
   "outputs": [],
   "source": []
  }
 ],
 "metadata": {
  "kernelspec": {
   "display_name": "Python 3",
   "language": "python",
   "name": "python3"
  },
  "language_info": {
   "codemirror_mode": {
    "name": "ipython",
    "version": 3
   },
   "file_extension": ".py",
   "mimetype": "text/x-python",
   "name": "python",
   "nbconvert_exporter": "python",
   "pygments_lexer": "ipython3",
   "version": "3.8.8"
  }
 },
 "nbformat": 4,
 "nbformat_minor": 2
}
