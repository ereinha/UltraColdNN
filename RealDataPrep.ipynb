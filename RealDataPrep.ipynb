{
 "cells": [
  {
   "cell_type": "code",
   "execution_count": 1,
   "metadata": {},
   "outputs": [],
   "source": [
    "from NPSmethods2 import*\n",
    "import numpy as np\n",
    "import glob\n",
    "import pickle as pkl\n",
    "import tensorflow as tf"
   ]
  },
  {
   "cell_type": "code",
   "execution_count": 2,
   "metadata": {},
   "outputs": [],
   "source": [
    "def calcNoisePowSpecs(ODs):\n",
    "\n",
    "    noisePowSpecs = []\n",
    "    for k in range(len(ODs)):\n",
    "        noise = ODs[k]\n",
    "        noiseFFT = np.fft.fftshift(np.fft.fft2(np.fft.fftshift(noise)))\n",
    "        noisePowSpec = np.abs(noiseFFT)**2\n",
    "        noisePowSpec = noisePowSpec / ODs[k].sum()\n",
    "        noisePowSpec[noisePowSpec.shape[0]//2, noisePowSpec.shape[1]//2] = 0\n",
    "    \n",
    "        noisePowSpecs.append(noisePowSpec)\n",
    "\n",
    "    return noisePowSpecs"
   ]
  },
  {
   "cell_type": "code",
   "execution_count": 3,
   "metadata": {},
   "outputs": [],
   "source": [
    "imgSysData = { \n",
    "    \"CCDPixelSize\": 13,      # pixel size of the CCD, in micron \n",
    "    \"magnification\": 27,      # 799.943 / 29.9099, # magnification of the imaging system \n",
    "    \"wavelen\"     : 0.852,     # wavelength of the imaging beam, in micron \n",
    "    \"NA\"          : 0.37,      # numerical aperture of the objective \n",
    "    \"ODtoAtom\"    : 13\n",
    "}\n",
    "\n",
    "choices = {\n",
    "    \"if_Save\"                     : False,\n",
    "    \"do_Fit\"                      : True,\n",
    "    \"plot_2dGas\"                  : False,\n",
    "    \"plot_NoisePowSpec\"           : False,\n",
    "    \"plot_NoisePowSpec_LineCut\"   : False,\n",
    "    \"plot_Pupil\"                  : False,\n",
    "    \"plot_PSF\"                    : False,\n",
    "    \"plot_PSF_LineCut\"            : False,\n",
    "    \"plot_PSF_abs2\"               : False,\n",
    "    \"plot_PSF_abs2_LineCut\"       : False,\n",
    "    \"plot_Sk\"                     : False,\n",
    "    \"normalize\"                   : False\n",
    "}\n",
    "\n",
    "path = r'C:\\Users\\eric0\\Jupyter Notebooks\\Cold Physics\\raw_image'\n",
    "savepath = r'C:\\Users\\eric0\\Jupyter Notebooks\\Cold Physics\\results'\n",
    "numOfImgsInEachRun = 1\n",
    "rampingParameter = 0\n",
    "trapRegion = (slice(100, 200), slice(100, 200))\n",
    "noiseRegion = (slice(0, 300), slice(0, 300))"
   ]
  },
  {
   "cell_type": "code",
   "execution_count": 4,
   "metadata": {},
   "outputs": [
    {
     "name": "stdout",
     "output_type": "stream",
     "text": [
      "tau     =  1.0000 : describe the decaying of transmission efficiency with radius\n",
      "S0      =  0.0100 : spherical aberration\n",
      "alpha   =  2.4600 : astigmatism\n",
      "beta    =  0.3640 : defocus\n",
      "delta_s = -0.0379 : phase imprint by atom scattering\n",
      "\n",
      "tau     =  1.0000 : describe the decaying of transmission efficiency with radius\n",
      "S0      =  0.0100 : spherical aberration\n",
      "alpha   =  2.3192 : astigmatism\n",
      "beta    =  0.5329 : defocus\n",
      "delta_s = -0.0325 : phase imprint by atom scattering\n",
      "\n",
      "tau     =  1.0000 : describe the decaying of transmission efficiency with radius\n",
      "S0      =  0.0000 : spherical aberration\n",
      "alpha   =  2.4600 : astigmatism\n",
      "beta    = -2.0000 : defocus\n",
      "delta_s = -0.1055 : phase imprint by atom scattering\n",
      "\n",
      "tau     =  1.0000 : describe the decaying of transmission efficiency with radius\n",
      "S0      =  0.0000 : spherical aberration\n",
      "alpha   =  2.4600 : astigmatism\n",
      "beta    = -1.7309 : defocus\n",
      "delta_s = -0.0049 : phase imprint by atom scattering\n",
      "\n",
      "tau     =  1.0000 : describe the decaying of transmission efficiency with radius\n",
      "S0      =  0.0000 : spherical aberration\n",
      "alpha   =  2.4600 : astigmatism\n",
      "beta    = -0.7717 : defocus\n",
      "delta_s =  0.0059 : phase imprint by atom scattering\n",
      "\n",
      "tau     =  1.0000 : describe the decaying of transmission efficiency with radius\n",
      "S0      =  0.0000 : spherical aberration\n",
      "alpha   =  2.4600 : astigmatism\n",
      "beta    = -0.2540 : defocus\n",
      "delta_s =  0.0210 : phase imprint by atom scattering\n",
      "\n",
      "tau     =  1.0000 : describe the decaying of transmission efficiency with radius\n",
      "S0      =  0.0000 : spherical aberration\n",
      "alpha   =  2.4600 : astigmatism\n",
      "beta    = -1.7372 : defocus\n",
      "delta_s =  0.0322 : phase imprint by atom scattering\n",
      "\n",
      "tau     =  1.0000 : describe the decaying of transmission efficiency with radius\n",
      "S0      =  0.0000 : spherical aberration\n",
      "alpha   =  2.4185 : astigmatism\n",
      "beta    = -0.9083 : defocus\n",
      "delta_s = -0.0084 : phase imprint by atom scattering\n",
      "\n",
      "tau     =  1.0000 : describe the decaying of transmission efficiency with radius\n",
      "S0      =  0.0100 : spherical aberration\n",
      "alpha   =  2.4600 : astigmatism\n",
      "beta    =  0.5302 : defocus\n",
      "delta_s = -0.0352 : phase imprint by atom scattering\n",
      "\n",
      "tau     =  1.0000 : describe the decaying of transmission efficiency with radius\n",
      "S0      =  0.0000 : spherical aberration\n",
      "alpha   =  2.4600 : astigmatism\n",
      "beta    = -0.3163 : defocus\n",
      "delta_s =  0.0452 : phase imprint by atom scattering\n",
      "\n",
      "tau     =  1.0000 : describe the decaying of transmission efficiency with radius\n",
      "S0      =  0.0100 : spherical aberration\n",
      "alpha   =  2.4600 : astigmatism\n",
      "beta    =  1.3655 : defocus\n",
      "delta_s = -0.1213 : phase imprint by atom scattering\n",
      "\n",
      "tau     =  1.0000 : describe the decaying of transmission efficiency with radius\n",
      "S0      =  0.0000 : spherical aberration\n",
      "alpha   =  2.1814 : astigmatism\n",
      "beta    = -0.2861 : defocus\n",
      "delta_s = -0.0799 : phase imprint by atom scattering\n",
      "\n",
      "tau     =  1.0000 : describe the decaying of transmission efficiency with radius\n",
      "S0      =  0.0100 : spherical aberration\n",
      "alpha   =  2.0877 : astigmatism\n",
      "beta    =  0.2016 : defocus\n",
      "delta_s = -0.0904 : phase imprint by atom scattering\n",
      "\n",
      "tau     =  1.0000 : describe the decaying of transmission efficiency with radius\n",
      "S0      =  0.0000 : spherical aberration\n",
      "alpha   =  2.4600 : astigmatism\n",
      "beta    = -0.1020 : defocus\n",
      "delta_s = -0.0462 : phase imprint by atom scattering\n",
      "\n",
      "tau     =  1.0000 : describe the decaying of transmission efficiency with radius\n",
      "S0      =  0.0100 : spherical aberration\n",
      "alpha   =  2.4600 : astigmatism\n",
      "beta    = -1.7850 : defocus\n",
      "delta_s =  0.0038 : phase imprint by atom scattering\n",
      "\n",
      "tau     =  1.0000 : describe the decaying of transmission efficiency with radius\n",
      "S0      =  0.0000 : spherical aberration\n",
      "alpha   =  2.3318 : astigmatism\n",
      "beta    = -0.2150 : defocus\n",
      "delta_s = -0.0223 : phase imprint by atom scattering\n",
      "\n",
      "tau     =  1.0000 : describe the decaying of transmission efficiency with radius\n",
      "S0      =  0.0000 : spherical aberration\n",
      "alpha   =  2.4600 : astigmatism\n",
      "beta    =  1.7529 : defocus\n",
      "delta_s = -0.1360 : phase imprint by atom scattering\n",
      "\n",
      "tau     =  1.0000 : describe the decaying of transmission efficiency with radius\n",
      "S0      =  0.0000 : spherical aberration\n",
      "alpha   =  2.4600 : astigmatism\n",
      "beta    =  0.2359 : defocus\n",
      "delta_s = -0.0124 : phase imprint by atom scattering\n",
      "\n"
     ]
    }
   ],
   "source": [
    "parameters = []\n",
    "images = []\n",
    "\n",
    "for folder in glob.iglob(path + \"\\\\*\"):\n",
    "    atomODs, atomODAvg, _, _, _, _ = \\\n",
    "        readInImages(folder + \"\\\\\", numOfImgsInEachRun, rampingParameter, trapRegion, noiseRegion)\n",
    "    noisePowSpecs = calcNoisePowSpecs(atomODs)\n",
    "    _, _, _, _, popt, _ = doCalibration(folder, savepath, trapRegion, noiseRegion, numOfImgsInEachRun, rampingParameter, imgSysData, choices)\n",
    "    for noisePowSpec in noisePowSpecs:\n",
    "        images.append(noisePowSpec)\n",
    "    for i in range(len(noisePowSpecs)):\n",
    "        parameters.append(popt)"
   ]
  },
  {
   "cell_type": "code",
   "execution_count": 5,
   "metadata": {},
   "outputs": [],
   "source": [
    "images = np.delete(images, np.s_[74:100], axis = 1)\n",
    "images = np.delete(images, np.s_[0:25], axis = 1)\n",
    "images = np.delete(images, np.s_[74:100], axis = 2)\n",
    "images = np.delete(images, np.s_[0:25], axis = 2)"
   ]
  },
  {
   "cell_type": "code",
   "execution_count": 6,
   "metadata": {},
   "outputs": [
    {
     "name": "stdout",
     "output_type": "stream",
     "text": [
      "(364, 49, 49)\n"
     ]
    }
   ],
   "source": [
    "print(np.shape(images))"
   ]
  },
  {
   "cell_type": "code",
   "execution_count": 7,
   "metadata": {},
   "outputs": [],
   "source": [
    "for imnum in range(len(images)):\n",
    "    K_x, K_y, _, _ = getFreq(imgSysData[\"CCDPixelSize\"], imgSysData[\"magnification\"], (50,50))\n",
    "    fig = plt.figure(figsize=(5.5, 4.5))\n",
    "    ax = fig.add_subplot(111)\n",
    "    im = ax.pcolor(K_x, K_y, images[imnum], cmap=cm.jet, vmin = 0, vmax = images[imnum].max())\n",
    "    plt.colorbar(im)\n",
    "    fig.savefig(\"C:\\\\Users\\\\eric0\\\\OneDrive\\\\Desktop\\\\Cold Physics\\\\real_NPS_ims\\\\real_NPS_%d\" % imnum)\n",
    "    plt.close(fig)"
   ]
  },
  {
   "cell_type": "code",
   "execution_count": 8,
   "metadata": {},
   "outputs": [
    {
     "name": "stdout",
     "output_type": "stream",
     "text": [
      "[[257]]\n"
     ]
    }
   ],
   "source": [
    "images = np.array(images).reshape((len(images),-1))\n",
    "parameters = np.array(parameters)\n",
    "print(np.argwhere(np.amin(images, axis=1) < 0))\n",
    "parameters = np.delete(parameters, np.where(np.amin(images, axis=1) < 0), 0)\n",
    "images = np.delete(images, np.where(np.amin(images, axis=1) < 0), 0)"
   ]
  },
  {
   "cell_type": "code",
   "execution_count": 11,
   "metadata": {},
   "outputs": [],
   "source": [
    "defocus = parameters[:,5]\n",
    "threeimages = []\n",
    "fiveimages = []\n",
    "threeimparams = []\n",
    "fiveimparams = []\n",
    "for i in range(len(images)):\n",
    "    if (i + 1) % 3 == 0:\n",
    "        if defocus[i] == defocus[i - 2]:\n",
    "            threeimages.append(sum(images[i - 2:i] / 3))\n",
    "            threeimparams.append(defocus[i])\n",
    "                               \n",
    "    if (i + 1) % 5 == 0:\n",
    "        if defocus[i] == defocus[i - 4]:\n",
    "            fiveimages.append(sum(images[i - 4:i] / 5))\n",
    "            fiveimparams.append(defocus[i])\n",
    "threeimages = np.array(threeimages)\n",
    "fiveimages = np.array(fiveimages)"
   ]
  },
  {
   "cell_type": "code",
   "execution_count": 12,
   "metadata": {},
   "outputs": [],
   "source": [
    "# xscaler = pkl.load(open(savepath + \"\\\\xscaler\", \"rb\"))\n",
    "# images = xscaler.transform(images)\n",
    "images /= 20\n",
    "threeimages /= 20\n",
    "fiveimages /= 20\n",
    "# mean = pkl.load(open(savepath + \"\\\\mean\", \"rb\"))\n",
    "# std = pkl.load(open(savepath + \"\\\\std\", \"rb\"))\n",
    "# images -= mean\n",
    "# images /= std\n",
    "# threeimages -= mean\n",
    "# threeimages /= std\n",
    "# fiveimages -= mean\n",
    "# fiveimages /= std\n",
    "for i in range(len(images)):\n",
    "    images[i] -= np.mean(images[i])\n",
    "    images[i] /= np.std(images[i])\n",
    "for i in range(len(threeimages)):\n",
    "    threeimages[i] -= np.mean(threeimages[i])\n",
    "    threeimages[i] /= np.std(threeimages[i])\n",
    "for i in range(len(fiveimages)):\n",
    "    fiveimages[i] -= np.mean(fiveimages[i])\n",
    "    fiveimages[i] /= np.std(fiveimages[i])"
   ]
  },
  {
   "cell_type": "code",
   "execution_count": 15,
   "metadata": {},
   "outputs": [
    {
     "name": "stdout",
     "output_type": "stream",
     "text": [
      "30.163363440762478\n",
      "-0.7050754180779927\n"
     ]
    }
   ],
   "source": [
    "print(np.max(images))\n",
    "print(np.min(images))"
   ]
  },
  {
   "cell_type": "code",
   "execution_count": 16,
   "metadata": {},
   "outputs": [],
   "source": [
    "images = tf.convert_to_tensor(images)\n",
    "threeimages = tf.convert_to_tensor(threeimages)\n",
    "fiveimages = tf.convert_to_tensor(fiveimages)\n",
    "parameters = tf.convert_to_tensor(parameters)\n",
    "threeimparams = tf.convert_to_tensor(threeimparams)\n",
    "fiveimparams = tf.convert_to_tensor(fiveimparams)"
   ]
  },
  {
   "cell_type": "code",
   "execution_count": 17,
   "metadata": {},
   "outputs": [],
   "source": [
    "pkl.dump(images, open(savepath + \"\\\\realdatain\", \"wb\"))\n",
    "pkl.dump(threeimages, open(savepath + \"\\\\3images\", \"wb\"))\n",
    "pkl.dump(fiveimages, open(savepath + \"\\\\5images\", \"wb\"))\n",
    "pkl.dump(parameters, open(savepath + \"\\\\realdataout\", \"wb\"))\n",
    "pkl.dump(threeimparams, open(savepath + \"\\\\3imparams\", \"wb\"))\n",
    "pkl.dump(fiveimparams, open(savepath + \"\\\\5imparams\", \"wb\"))"
   ]
  },
  {
   "cell_type": "code",
   "execution_count": null,
   "metadata": {},
   "outputs": [],
   "source": []
  }
 ],
 "metadata": {
  "kernelspec": {
   "display_name": "Python 3",
   "language": "python",
   "name": "python3"
  },
  "language_info": {
   "codemirror_mode": {
    "name": "ipython",
    "version": 3
   },
   "file_extension": ".py",
   "mimetype": "text/x-python",
   "name": "python",
   "nbconvert_exporter": "python",
   "pygments_lexer": "ipython3",
   "version": "3.8.8"
  }
 },
 "nbformat": 4,
 "nbformat_minor": 2
}
