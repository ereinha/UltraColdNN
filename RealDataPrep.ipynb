{
 "cells": [
  {
   "cell_type": "code",
   "execution_count": null,
   "metadata": {},
   "outputs": [],
   "source": [
    "from NPSmethods2 import*\n",
    "import numpy as np\n",
    "import glob\n",
    "import pickle as pkl\n",
    "import tensorflow as tf"
   ]
  },
  {
   "cell_type": "code",
   "execution_count": null,
   "metadata": {},
   "outputs": [],
   "source": [
    "#Function that applies fourier transforms to OD images to get a noise power spectrum\n",
    "def calcNoisePowSpecs(ODs):\n",
    "\n",
    "    noisePowSpecs = []\n",
    "    for k in range(len(ODs)):\n",
    "        noise = ODs[k]\n",
    "        noiseFFT = np.fft.fftshift(np.fft.fft2(np.fft.fftshift(noise)))\n",
    "        noisePowSpec = np.abs(noiseFFT)**2\n",
    "        noisePowSpec = noisePowSpec / ODs[k].sum()\n",
    "        noisePowSpec[noisePowSpec.shape[0]//2, noisePowSpec.shape[1]//2] = 0\n",
    "        _, _, K_x, K_y = getFreq(imgSysData[\"CCDPixelSize\"], imgSysData[\"magnification\"], [100, 100])\n",
    "        d = imgSysData[\"wavelen\"] / (2*np.pi*imgSysData[\"NA\"]) \n",
    "        M2k_Fit_fake = M2kFuncAnal(K_x, K_y, d, 1.5, 1, .5, -1.6, 0, -1)\n",
    "        bkg = np.mean(noisePowSpec[M2k_Fit_fake==0])\n",
    "        noisePowSpec -= bkg\n",
    "        noisePowSpec[noisePowSpec < 0] = 0\n",
    "        noisePowSpec[M2k_Fit_fake == 0] = 0\n",
    "    \n",
    "        noisePowSpecs.append(noisePowSpec)\n",
    "\n",
    "    return noisePowSpecs"
   ]
  },
  {
   "cell_type": "code",
   "execution_count": null,
   "metadata": {},
   "outputs": [],
   "source": [
    "imgSysData = { \n",
    "    \"CCDPixelSize\": 13,      # pixel size of the CCD, in micron \n",
    "    \"magnification\": 27,      # 799.943 / 29.9099, # magnification of the imaging system \n",
    "    \"wavelen\"     : 0.852,     # wavelength of the imaging beam, in micron \n",
    "    \"NA\"          : 0.37,      # numerical aperture of the objective \n",
    "    \"ODtoAtom\"    : 13\n",
    "}\n",
    "\n",
    "choices = {\n",
    "    \"if_Save\"                     : False,\n",
    "    \"do_Fit\"                      : True,\n",
    "    \"plot_2dGas\"                  : False,\n",
    "    \"plot_NoisePowSpec\"           : False,\n",
    "    \"plot_NoisePowSpec_LineCut\"   : False,\n",
    "    \"plot_Pupil\"                  : False,\n",
    "    \"plot_PSF\"                    : False,\n",
    "    \"plot_PSF_LineCut\"            : False,\n",
    "    \"plot_PSF_abs2\"               : False,\n",
    "    \"plot_PSF_abs2_LineCut\"       : False,\n",
    "    \"plot_Sk\"                     : False,\n",
    "    \"normalize\"                   : False\n",
    "}\n",
    "\n",
    "path = r'C:\\Users\\eric0\\Jupyter Notebooks\\Cold Physics\\raw_image' #Path to raw images\n",
    "savepath = r'C:\\Users\\eric0\\Jupyter Notebooks\\Cold Physics\\results' #Path to save processes images and parameters\n",
    "numOfImgsInEachRun = 1 #Number of images\n",
    "rampingParameter = 0\n",
    "trapRegion = (slice(100, 200), slice(100, 200))\n",
    "noiseRegion = (slice(0, 300), slice(0, 300))"
   ]
  },
  {
   "cell_type": "code",
   "execution_count": null,
   "metadata": {},
   "outputs": [],
   "source": [
    "parameters = []\n",
    "images = []\n",
    "\n",
    "#Sort through folders and get parameters and images for each folder\n",
    "for folder in glob.iglob(path + \"\\\\*\"):\n",
    "    atomODs, atomODAvg, _, _, _, _ = \\\n",
    "        readInImages(folder + \"\\\\\", numOfImgsInEachRun, rampingParameter, trapRegion, noiseRegion)\n",
    "    noisePowSpecs = calcNoisePowSpecs(atomODs)\n",
    "    _, _, _, _, popt, _, _ = doCalibration(folder, savepath, trapRegion, noiseRegion, numOfImgsInEachRun, rampingParameter, imgSysData, choices)\n",
    "    for noisePowSpec in noisePowSpecs:\n",
    "        images.append(noisePowSpec)\n",
    "    for i in range(len(noisePowSpecs)):\n",
    "        parameters.append(popt)"
   ]
  },
  {
   "cell_type": "code",
   "execution_count": null,
   "metadata": {},
   "outputs": [],
   "source": [
    "#Cut the images down to a smaller 49x49 pixel size\n",
    "images = np.delete(images, np.s_[74:100], axis = 1)\n",
    "images = np.delete(images, np.s_[0:25], axis = 1)\n",
    "images = np.delete(images, np.s_[74:100], axis = 2)\n",
    "images = np.delete(images, np.s_[0:25], axis = 2)"
   ]
  },
  {
   "cell_type": "code",
   "execution_count": null,
   "metadata": {},
   "outputs": [],
   "source": [
    "#Check image dimensions\n",
    "print(np.shape(images))"
   ]
  },
  {
   "cell_type": "code",
   "execution_count": null,
   "metadata": {},
   "outputs": [],
   "source": [
    "#Save images to a folder\n",
    "for imnum in range(len(images)):\n",
    "    K_x, K_y, _, _ = getFreq(imgSysData[\"CCDPixelSize\"], imgSysData[\"magnification\"], (50,50))\n",
    "    fig = plt.figure(figsize=(5.5, 4.5))\n",
    "    ax = fig.add_subplot(111)\n",
    "    im = ax.pcolor(K_x, K_y, images[imnum], cmap=cm.jet, vmin = 0, vmax = 0.5)\n",
    "    plt.colorbar(im)\n",
    "    fig.savefig(\"C:\\\\Users\\\\eric0\\\\OneDrive\\\\Desktop\\\\Cold Physics\\\\real_NPS_ims\\\\real_NPS_%d\" % imnum)\n",
    "    plt.close(fig)"
   ]
  },
  {
   "cell_type": "code",
   "execution_count": null,
   "metadata": {},
   "outputs": [],
   "source": [
    "#Convert images and parameters to arrays and delete any samples that have negative pixel values (should be 0)\n",
    "images = np.array(images).reshape((len(images),-1))\n",
    "parameters = np.array(parameters)\n",
    "print(np.argwhere(np.amin(images, axis=1) < 0))\n",
    "parameters = np.delete(parameters, np.where(np.amin(images, axis=1) < 0), 0)\n",
    "images = np.delete(images, np.where(np.amin(images, axis=1) < 0), 0)"
   ]
  },
  {
   "cell_type": "code",
   "execution_count": null,
   "metadata": {},
   "outputs": [],
   "source": [
    "for image in images[0:20]:\n",
    "    plt.hist(image.flatten(), density=1, range=(0,.25))\n",
    "    plt.show()"
   ]
  },
  {
   "cell_type": "code",
   "execution_count": null,
   "metadata": {},
   "outputs": [],
   "source": [
    "#Separate out the defocus parameter and sets of 3 consecutive and 5 consecutive images and their parameters\n",
    "defocus = parameters[:,5]\n",
    "threeimages = []\n",
    "fiveimages = []\n",
    "threeimparams = []\n",
    "fiveimparams = []\n",
    "for i in range(len(images)):\n",
    "    if (i + 1) % 3 == 0:\n",
    "        if defocus[i] == defocus[i - 2]:\n",
    "            threeimages.append(sum(images[i - 2:i] / 3))\n",
    "            threeimparams.append(defocus[i])\n",
    "                               \n",
    "    if (i + 1) % 5 == 0:\n",
    "        if defocus[i] == defocus[i - 4]:\n",
    "            fiveimages.append(sum(images[i - 4:i] / 5))\n",
    "            fiveimparams.append(defocus[i])\n",
    "threeimages = np.array(threeimages)\n",
    "fiveimages = np.array(fiveimages)"
   ]
  },
  {
   "cell_type": "code",
   "execution_count": null,
   "metadata": {},
   "outputs": [],
   "source": [
    "#Normalize image sets\n",
    "# images /= 20\n",
    "# threeimages /= 20\n",
    "# fiveimages /= 20\n",
    "# mean = pkl.load(open(savepath + \"\\\\mean\", \"rb\"))\n",
    "# std = pkl.load(open(savepath + \"\\\\std\", \"rb\"))\n",
    "# images[images < 0.001] = 0.001\n",
    "# threeimages[threeimages < 0.001] = 0.001\n",
    "# fiveimages[fiveimages < 0.001] = 0.001\n",
    "# images = np.log10(images)\n",
    "# threeimages = np.log10(threeimages)\n",
    "# fiveimages = np.log10(fiveimages)\n",
    "# images /= 3\n",
    "# threeimages /= 3\n",
    "# fiveimages /= 3\n",
    "for i in range(len(images)):\n",
    "    if np.std(images[i])==0:\n",
    "        print(i)\n",
    "        continue\n",
    "    images[i] -= np.mean(images[i])\n",
    "    images[i] /= np.std(images[i])\n",
    "for i in range(len(threeimages)):\n",
    "    threeimages[i] -= np.mean(threeimages[i])\n",
    "    threeimages[i] /= np.std(threeimages[i])\n",
    "for i in range(len(fiveimages)):\n",
    "    fiveimages[i] -= np.mean(fiveimages[i])\n",
    "    fiveimages[i] /= np.std(fiveimages[i])"
   ]
  },
  {
   "cell_type": "code",
   "execution_count": null,
   "metadata": {},
   "outputs": [],
   "source": [
    "for image in images[0:20]:\n",
    "    plt.hist(image.flatten(), density=1)\n",
    "    plt.show()"
   ]
  },
  {
   "cell_type": "code",
   "execution_count": null,
   "metadata": {},
   "outputs": [],
   "source": [
    "#Scale parameters using scaler used in artificial data normalization for ML validation set\n",
    "yscaler = pkl.load(open(savepath + \"\\\\yscaler\", \"rb\"))\n",
    "defocus = defocus.reshape(-1, 1)\n",
    "parameters_s = yscaler.transform(defocus)"
   ]
  },
  {
   "cell_type": "code",
   "execution_count": null,
   "metadata": {},
   "outputs": [],
   "source": [
    "#Convert images and parameters to tensorflor tensors\n",
    "images = tf.convert_to_tensor(images, dtype=tf.float32)\n",
    "threeimages = tf.convert_to_tensor(threeimages, dtype=tf.float32)\n",
    "fiveimages = tf.convert_to_tensor(fiveimages, dtype=tf.float32)\n",
    "parameters = tf.convert_to_tensor(parameters, dtype=tf.float32)\n",
    "threeimparams = tf.convert_to_tensor(threeimparams, dtype=tf.float32)\n",
    "fiveimparams = tf.convert_to_tensor(fiveimparams, dtype=tf.float32)"
   ]
  },
  {
   "cell_type": "code",
   "execution_count": null,
   "metadata": {},
   "outputs": [],
   "source": [
    "#Store images and parameters as pickle files\n",
    "pkl.dump(images, open(savepath + \"\\\\realdatain\", \"wb\"))\n",
    "pkl.dump(threeimages, open(savepath + \"\\\\3images\", \"wb\"))\n",
    "pkl.dump(fiveimages, open(savepath + \"\\\\5images\", \"wb\"))\n",
    "pkl.dump(parameters, open(savepath + \"\\\\realdataout\", \"wb\"))\n",
    "pkl.dump(threeimparams, open(savepath + \"\\\\3imparams\", \"wb\"))\n",
    "pkl.dump(fiveimparams, open(savepath + \"\\\\5imparams\", \"wb\"))\n",
    "pkl.dump(parameters_s, open(savepath + \"\\\\realdataout_s\", \"wb\"))"
   ]
  },
  {
   "cell_type": "code",
   "execution_count": null,
   "metadata": {},
   "outputs": [],
   "source": []
  }
 ],
 "metadata": {
  "kernelspec": {
   "display_name": "Python 3",
   "language": "python",
   "name": "python3"
  },
  "language_info": {
   "codemirror_mode": {
    "name": "ipython",
    "version": 3
   },
   "file_extension": ".py",
   "mimetype": "text/x-python",
   "name": "python",
   "nbconvert_exporter": "python",
   "pygments_lexer": "ipython3",
   "version": "3.8.8"
  }
 },
 "nbformat": 4,
 "nbformat_minor": 2
}
