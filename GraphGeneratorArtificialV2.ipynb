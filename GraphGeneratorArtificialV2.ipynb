{
 "cells": [
  {
   "cell_type": "code",
   "execution_count": null,
   "metadata": {},
   "outputs": [],
   "source": [
    "import numpy as np\n",
    "from scipy import stats\n",
    "import tensorflow_probability as tfp\n",
    "import matplotlib.pyplot as plt\n",
    "from matplotlib.transforms import Bbox\n",
    "import plotly.graph_objects as go\n",
    "import pickle as pkl\n",
    "import keras\n",
    "import tensorflow_addons as tfa\n",
    "import os\n",
    "from GraphFuncsV4 import*\n",
    "import time\n",
    "from tensorflow.keras.layers import *\n",
    "import keras.backend as K"
   ]
  },
  {
   "cell_type": "code",
   "execution_count": null,
   "metadata": {},
   "outputs": [],
   "source": [
    "#Import model\n",
    "modelname = 'ConvV1_1.0e-03_25_32_2'\n",
    "model = keras.models.load_model('./results/%s.h5' % modelname)"
   ]
  },
  {
   "cell_type": "code",
   "execution_count": null,
   "metadata": {},
   "outputs": [],
   "source": [
    "#Create folders for plots\n",
    "try:\n",
    "    os.mkdir(\"./Plots/%s\" % modelname)\n",
    "    os.mkdir(\"./Plots/%s/Model\" % modelname)\n",
    "    os.mkdir(\"./Plots/%s/Model/Single Model\" % modelname)\n",
    "    os.mkdir(\"./Plots/%s/Comparison\" % modelname)\n",
    "    os.mkdir(\"./Plots/%s/Comparison/Single Model\" % modelname)\n",
    "    os.mkdir(\"./Plots/%s/Analytical\" % modelname)\n",
    "    os.mkdir(\"./Plots/%s/Analytical/Single Model\" % modelname)\n",
    "except OSError:\n",
    "    print(\"Folder %s already exists\" % modelname)"
   ]
  },
  {
   "cell_type": "code",
   "execution_count": null,
   "metadata": {},
   "outputs": [],
   "source": [
    "#Import scaler and Monte Carlo validation data\n",
    "savedir = \"./results/\"\n",
    "yscaler = pkl.load(open(savedir + \"yscaler\", \"rb\"))\n",
    "testin = pkl.load(open(savedir + \"testin\", \"rb\"))\n",
    "testout = pkl.load(open(savedir + \"testout\", \"rb\"))"
   ]
  },
  {
   "cell_type": "code",
   "execution_count": null,
   "metadata": {},
   "outputs": [],
   "source": [
    "#Make model predictions and test inference time of model\n",
    "true = testout.numpy()\n",
    "seconds = time.time()\n",
    "print(\"Start time:\", seconds)\n",
    "pred = model.predict(testin) #make model predictions\n",
    "seconds2 = time.time()\n",
    "print(\"End time:\", seconds2)\n",
    "print(\"Images:\", len(testin.numpy()))\n",
    "true = yscaler.inverse_transform(true)\n",
    "true *= 2 #Scale by 2 for conversion from defocus to micrometers (approximately a factor of 2)\n",
    "pred = yscaler.inverse_transform(pred)\n",
    "pred *= 2 #Scale by 2 for conversion from defocus to micrometers (approximately a factor of 2)\n",
    "print(\"Images/second:\", len(testin.numpy())/(seconds2-seconds))"
   ]
  },
  {
   "cell_type": "code",
   "execution_count": null,
   "metadata": {},
   "outputs": [],
   "source": [
    "#Variable(s) of interest\n",
    "varname = [\n",
    "#            \"Amplitude\", \n",
    "#            \"Decay Coefficient\", \n",
    "#            \"Spherical Aberration\", \n",
    "#            \"Astigmatism\", \n",
    "#            \"Principal Axis Angle\", \n",
    "           \"Defocus\", \n",
    "#            \"Detuning\"\n",
    "           ]"
   ]
  },
  {
   "cell_type": "code",
   "execution_count": null,
   "metadata": {},
   "outputs": [],
   "source": [
    "print(type(pred[0][0]))"
   ]
  },
  {
   "cell_type": "code",
   "execution_count": null,
   "metadata": {},
   "outputs": [],
   "source": [
    "bins = 10 #Number of bins for plots\n",
    "space = 'Single Model' #Name of sub-folder\n",
    "\n",
    "#Generate plots\n",
    "for i in range(len(varname)):\n",
    "    lower, upper = getlowerupper(pred[:,i], true[:,i])\n",
    "    \n",
    "    preds = np.array([pred[:,i]])\n",
    "    \n",
    "    prednames = ['ML Model']\n",
    "    \n",
    "    heatmap(modelname, \n",
    "            'Model', \n",
    "            space, \n",
    "            true[:,i], \n",
    "            pred[:,i], \n",
    "            varname[i], \n",
    "            lower, \n",
    "            upper, \n",
    "            bins)\n",
    "    \n",
    "    resmeans, stddevs, bincenters, samples, resmean, std = \\\n",
    "    plotgaussian(modelname, \n",
    "                 'Model', \n",
    "                 space, \n",
    "                 true[:,i], \n",
    "                 pred[:,i], \n",
    "                 varname[i], \n",
    "                 lower, \n",
    "                 upper, \n",
    "                 bins)\n",
    "    \n",
    "    confinttable(modelname, \n",
    "                 space, \n",
    "                 'Model', \n",
    "                 resmean, \n",
    "                 std, \n",
    "                 varname[i], \n",
    "                 sum(samples), \n",
    "                 lower, \n",
    "                 upper)"
   ]
  },
  {
   "cell_type": "code",
   "execution_count": null,
   "metadata": {},
   "outputs": [],
   "source": []
  }
 ],
 "metadata": {
  "kernelspec": {
   "display_name": "Python 3",
   "language": "python",
   "name": "python3"
  },
  "language_info": {
   "codemirror_mode": {
    "name": "ipython",
    "version": 3
   },
   "file_extension": ".py",
   "mimetype": "text/x-python",
   "name": "python",
   "nbconvert_exporter": "python",
   "pygments_lexer": "ipython3",
   "version": "3.8.8"
  }
 },
 "nbformat": 4,
 "nbformat_minor": 2
}
